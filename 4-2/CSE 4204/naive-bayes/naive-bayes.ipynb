{
 "cells": [
  {
   "cell_type": "code",
   "execution_count": 1,
   "id": "99336144",
   "metadata": {},
   "outputs": [],
   "source": [
    "import numpy as np\n",
    "import pandas as pd\n",
    "import pprint\n",
    "\n",
    "pp = pprint.PrettyPrinter()"
   ]
  },
  {
   "cell_type": "code",
   "execution_count": 2,
   "id": "c62f76d0",
   "metadata": {},
   "outputs": [],
   "source": [
    "data = pd.read_csv(\"https://raw.githubusercontent.com/datasciencedojo/datasets/master/titanic.csv\")\n",
    "X, y = data[['Pclass', 'Sex', 'Embarked']], data['Survived']"
   ]
  },
  {
   "cell_type": "code",
   "execution_count": 21,
   "id": "13a28ac1",
   "metadata": {},
   "outputs": [],
   "source": [
    "class NaiveBayes():\n",
    "    def __init__(self, X, y):\n",
    "        self.X = X\n",
    "        self.y = y\n",
    "        self.lookup_table = {}\n",
    "    def learn(self):\n",
    "        self.lookup_table['class'] = {}\n",
    "        for cls in self.y.unique():\n",
    "            self.lookup_table['class'][cls] = len(y[y==cls])/len(y)\n",
    "        for column in self.X.columns:\n",
    "            self.lookup_table[column] = {}\n",
    "            for category in self.X[column].unique():\n",
    "                self.lookup_table[column][category] = {}\n",
    "                for cls in self.y.unique():\n",
    "                    self.lookup_table[column][category][cls] = len(X[y==cls][X[column]==category])/len(y[y==cls])\n",
    "    def display_lookup_table(self):\n",
    "        pp.pprint(self.lookup_table)\n",
    "    def predict(self, x):\n",
    "        prediction = {}\n",
    "        p_X = 0\n",
    "        for cls in self.y.unique():\n",
    "            prediction[cls] = self.lookup_table['class'][cls]\n",
    "            for column in self.X.columns:\n",
    "                prediction[cls] *= self.lookup_table[column][x[column]][cls]\n",
    "            p_X += prediction[cls]\n",
    "        for cls in prediction:\n",
    "            prediction[cls] /= p_X\n",
    "        return prediction"
   ]
  },
  {
   "cell_type": "code",
   "execution_count": 22,
   "id": "a944cca3",
   "metadata": {},
   "outputs": [
    {
     "name": "stderr",
     "output_type": "stream",
     "text": [
      "/tmp/ipykernel_449/3918074954.py:15: UserWarning: Boolean Series key will be reindexed to match DataFrame index.\n",
      "  self.lookup_table[column][category][cls] = len(X[y==cls][X[column]==category])/len(y[y==cls])\n"
     ]
    },
    {
     "name": "stdout",
     "output_type": "stream",
     "text": [
      "{'Embarked': {nan: {0: 0.0, 1: 0.0},\n",
      "              'C': {0: 0.1366120218579235, 1: 0.2719298245614035},\n",
      "              'Q': {0: 0.08561020036429873, 1: 0.08771929824561403},\n",
      "              'S': {0: 0.7777777777777778, 1: 0.6345029239766082}},\n",
      " 'Pclass': {1: {0: 0.14571948998178508, 1: 0.39766081871345027},\n",
      "            2: {0: 0.1766848816029144, 1: 0.2543859649122807},\n",
      "            3: {0: 0.6775956284153005, 1: 0.347953216374269}},\n",
      " 'Sex': {'female': {0: 0.14754098360655737, 1: 0.6812865497076024},\n",
      "         'male': {0: 0.8524590163934426, 1: 0.31871345029239767}},\n",
      " 'class': {0: 0.6161616161616161, 1: 0.3838383838383838}}\n"
     ]
    }
   ],
   "source": [
    "nb = NaiveBayes(X, y)\n",
    "nb.learn()\n",
    "nb.display_lookup_table()"
   ]
  },
  {
   "cell_type": "code",
   "execution_count": 26,
   "id": "61affbe4",
   "metadata": {},
   "outputs": [
    {
     "data": {
      "text/plain": [
       "{0: 0.3978469832302337, 1: 0.6021530167697664}"
      ]
     },
     "execution_count": 26,
     "metadata": {},
     "output_type": "execute_result"
    }
   ],
   "source": [
    "x = {'Embarked':'Q', 'Pclass':3, 'Sex':'female'}\n",
    "nb.predict(x)"
   ]
  },
  {
   "cell_type": "code",
   "execution_count": null,
   "id": "4faef17e",
   "metadata": {},
   "outputs": [],
   "source": []
  }
 ],
 "metadata": {
  "kernelspec": {
   "display_name": "Python 3 (ipykernel)",
   "language": "python",
   "name": "python3"
  },
  "language_info": {
   "codemirror_mode": {
    "name": "ipython",
    "version": 3
   },
   "file_extension": ".py",
   "mimetype": "text/x-python",
   "name": "python",
   "nbconvert_exporter": "python",
   "pygments_lexer": "ipython3",
   "version": "3.8.10"
  }
 },
 "nbformat": 4,
 "nbformat_minor": 5
}
