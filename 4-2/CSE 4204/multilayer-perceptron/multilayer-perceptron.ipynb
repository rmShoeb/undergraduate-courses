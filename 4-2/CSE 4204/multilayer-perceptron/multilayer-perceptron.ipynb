{
 "cells": [
  {
   "cell_type": "code",
   "execution_count": 1,
   "id": "86a132dc",
   "metadata": {},
   "outputs": [],
   "source": [
    "import numpy as np\n",
    "import pandas as pd\n",
    "import matplotlib.pyplot as plt"
   ]
  },
  {
   "cell_type": "code",
   "execution_count": null,
   "id": "db690252",
   "metadata": {},
   "outputs": [],
   "source": [
    "df = pd.read_csv('https://github.com/jbrownlee/Datasets/raw/master/banknote_authentication.csv',\n",
    "                names=['variance',\n",
    "                       'skewness',\n",
    "                       'curtosis',\n",
    "                       'entropy',\n",
    "                       'class'\n",
    "                      ])\n",
    "df.head()"
   ]
  },
  {
   "cell_type": "code",
   "execution_count": null,
   "id": "f3666b4b",
   "metadata": {},
   "outputs": [],
   "source": [
    "class MultiLayerPerceptron():\n",
    "    def __init__(self, df, n_h=3):\n",
    "        X = df[['variance', 'skewness', 'curtosis', 'entropy']]\n",
    "        Y = df['class']\n",
    "        W = np.random.normal(size=(X.shape[1], n_h))\n",
    "    def learn():\n",
    "        pass"
   ]
  }
 ],
 "metadata": {
  "kernelspec": {
   "display_name": "Python 3 (ipykernel)",
   "language": "python",
   "name": "python3"
  },
  "language_info": {
   "codemirror_mode": {
    "name": "ipython",
    "version": 3
   },
   "file_extension": ".py",
   "mimetype": "text/x-python",
   "name": "python",
   "nbconvert_exporter": "python",
   "pygments_lexer": "ipython3",
   "version": "3.8.10"
  }
 },
 "nbformat": 4,
 "nbformat_minor": 5
}
